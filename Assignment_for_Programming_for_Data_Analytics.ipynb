{
 "cells": [
  {
   "cell_type": "markdown",
   "metadata": {},
   "source": [
    "### Analysis of the Numpy.Random Package"
   ]
  },
  {
   "cell_type": "code",
   "execution_count": null,
   "metadata": {},
   "outputs": [],
   "source": [
    "#1. Explain the overall purpose of the package.\n",
    "\n",
    "#3. Explain the use and purpose of at least five “Distributions” functions.\n",
    "#4. Explain the use of seeds in generating pseudorandom numbers."
   ]
  },
  {
   "cell_type": "markdown",
   "metadata": {},
   "source": [
    "#### Introduction"
   ]
  },
  {
   "cell_type": "markdown",
   "metadata": {},
   "source": [
    "**NumPy** is the fundamental package for scientific computing with Python. [Numpy.Random](https://docs.scipy.org/doc/numpy-1.15.1/reference/routines.random.html) uses the [Mersenne twister sequence](https://en.wikipedia.org/wiki/Mersenne_Twister) to generate random numbers in a deterministic fashion, i.e they are not entirely random but 'pseudo' random.  For this reason the  Numpy.Random package is unsuitable for critical security or serious cryptgraphic work, but is very useful for generating random numbers in a contolled or experimental environment.  There is also a need to 'seed' the the random value due to their inherent pseudo-randomness as sequences of the same random numbers can reoccur."
   ]
  },
  {
   "cell_type": "markdown",
   "metadata": {},
   "source": [
    "#### Q2. Explain the use of the “Simple random data” and “Permutations” functions."
   ]
  },
  {
   "attachments": {
    "image.png": {
     "image/png": "[encoded data removed]"
    }
   },
   "cell_type": "markdown",
   "metadata": {},
   "source": [
    "**Simple random data** is a sample of data (i.e a subset) chosen from a larger sample (aka a population). Each element is chosen randomly and entirely by chance, such that each element/individual has the same probability of being chosen at any stage during the sampling process. Each subset of elements has the same probability of being chosen for the sample as any other subset of elements. see [Ref](https://en.wikipedia.org/wiki/Simple_random_sample).<br>\n",
    "**Permutation functions** are functions that essentially arrange/rearrange all the elements of a set in some order and can produce a number of different subsets with varying sequences or combinations of elements.  Re-ordering a set is referred to as permuting.  In the graphic below, we have 6 rows with 3 difference coloured ball sequences and therefore the 6 rows have all different permutations.\n",
    "\n",
    "\n",
    "![image.png](attachment:image.png)"
   ]
  },
  {
   "cell_type": "code",
   "execution_count": null,
   "metadata": {},
   "outputs": [],
   "source": []
  },
  {
   "cell_type": "code",
   "execution_count": null,
   "metadata": {},
   "outputs": [],
   "source": []
  },
  {
   "cell_type": "code",
   "execution_count": null,
   "metadata": {},
   "outputs": [],
   "source": []
  },
  {
   "cell_type": "code",
   "execution_count": 1,
   "metadata": {},
   "outputs": [
    {
     "data": {
      "text/plain": [
       "0.9716471119910576"
      ]
     },
     "execution_count": 1,
     "metadata": {},
     "output_type": "execute_result"
    }
   ],
   "source": [
    "#Let's look at some of the functions and work out what they do.\n",
    "import numpy as np\n",
    "#function no. 1\n",
    "np.random.rand()"
   ]
  },
  {
   "cell_type": "markdown",
   "metadata": {},
   "source": [
    "We see that rand() returns a random number between 0 & 1, without 'shape' and without a 'distribution'.\n",
    "According to the reference material [numpy.random.rand](https://docs.scipy.org/doc/numpy/reference/generated/numpy.random.rand.html#numpy.random.rand), the rand function returns an array of numbers with a given shape from a uniform distribution between 0 & 1, the square bracket indicating that zero is inlcuded, and the round bracket indicating that one is not included [0,1)"
   ]
  },
  {
   "cell_type": "code",
   "execution_count": 2,
   "metadata": {},
   "outputs": [
    {
     "data": {
      "text/plain": [
       "array([[0.59384411, 0.86429549, 0.15889242, 0.07711306, 0.8084086 ,\n",
       "        0.35049914, 0.77162349],\n",
       "       [0.62149992, 0.30337745, 0.01347801, 0.41026106, 0.12238348,\n",
       "        0.59047285, 0.68689973],\n",
       "       [0.17448696, 0.60531066, 0.052194  , 0.73609605, 0.58958612,\n",
       "        0.05399479, 0.45777072],\n",
       "       [0.97172959, 0.97752391, 0.24827284, 0.26696444, 0.11762374,\n",
       "        0.74245801, 0.3314838 ]])"
      ]
     },
     "execution_count": 2,
     "metadata": {},
     "output_type": "execute_result"
    }
   ],
   "source": [
    "#Shape refers to the dimensions of the array\n",
    "#Uniform distribution refers to ........\n",
    "#Let's insert some integers to see what 'shape' we can put on the array \n",
    "\n",
    "np.random.rand(4,7)"
   ]
  },
  {
   "cell_type": "markdown",
   "metadata": {},
   "source": [
    "From our example above we see that the integer values (4,7) returns 4 arrays inside a single array, each single array containing 7 numbers between 0 & 1.  These 'numbers' are floating numbers.  We test for randomness by re-running the the function again and again."
   ]
  },
  {
   "cell_type": "code",
   "execution_count": 3,
   "metadata": {},
   "outputs": [
    {
     "data": {
      "text/plain": [
       "array([[0.30220027, 0.37366096, 0.0013786 , 0.50567351, 0.86824736,\n",
       "        0.03220437, 0.12124743],\n",
       "       [0.53673203, 0.99189401, 0.91676357, 0.63522992, 0.34430139,\n",
       "        0.89158556, 0.76123807],\n",
       "       [0.6582763 , 0.18421677, 0.70864942, 0.29960365, 0.56313743,\n",
       "        0.76491144, 0.28881587],\n",
       "       [0.57802144, 0.13757127, 0.84239391, 0.71207053, 0.66260702,\n",
       "        0.2334949 , 0.01923499]])"
      ]
     },
     "execution_count": 3,
     "metadata": {},
     "output_type": "execute_result"
    }
   ],
   "source": [
    "np.random.rand(4,7)"
   ]
  },
  {
   "cell_type": "markdown",
   "metadata": {},
   "source": [
    "Returning to the reference term **'uniform distribution'** - we will look at its uniformity by plotting a distribution. First let's read a [definition](https://stattrek.com/statistics/dictionary.aspx?definition=uniform_distribution) as - *\"in the context of probability distributions, uniform distribution refers to a probability distribution for which all of the values that a random variable can take on occur with equal probability\"*.  **Ok, let's plot!** "
   ]
  },
  {
   "cell_type": "code",
   "execution_count": 4,
   "metadata": {},
   "outputs": [
    {
     "data": {
      "image/png": "[encoded data removed]",
      "text/plain": [
       "<Figure size 432x288 with 1 Axes>"
      ]
     },
     "metadata": {},
     "output_type": "display_data"
    }
   ],
   "source": [
    "#Create a large array 'A' of random numbers with a uniform distribution\n",
    "A = np.random.rand(10000)\n",
    "\n",
    "%matplotlib inline\n",
    "import matplotlib.pyplot as plt\n",
    "plt.hist(A)\n",
    "plt.show()"
   ]
  },
  {
   "cell_type": "markdown",
   "metadata": {},
   "source": [
    "We observe from the plot that 10,000 numbers have been generated between 0 & 1, and these numbers have been placed into 10 bins (0.1, 0.2, 0.3....) for the purpose of plotting the histogram. We expect that if we re-run this code again and again, the histograms will look similar i.e. there is a **uniformity** to the distribution of numbers generated between 0 & 1.\n"
   ]
  },
  {
   "cell_type": "markdown",
   "metadata": {},
   "source": [
    "However, the rand function appears to be limited to floating point numbers between 0 & 1.  To go outside of this limitation we will look at another function called [Uniform](https://docs.scipy.org/doc/numpy/reference/generated/numpy.random.uniform.html#numpy.random.uniform).  We note from the definition of 'uniform' that we determine the *interval* or the range of values from which a distribution is extracted by assigning 'low' and 'high' values, from which the low value is included and the high value is excluded. **Let's have a look!**"
   ]
  },
  {
   "cell_type": "code",
   "execution_count": 5,
   "metadata": {},
   "outputs": [
    {
     "data": {
      "image/png": "[encoded data removed]",
      "text/plain": [
       "<Figure size 432x288 with 1 Axes>"
      ]
     },
     "metadata": {},
     "output_type": "display_data"
    }
   ],
   "source": [
    "u = np.random.uniform(-5,5,1000)\n",
    "plt.hist(u)\n",
    "plt.show()"
   ]
  },
  {
   "cell_type": "markdown",
   "metadata": {},
   "source": [
    "We now see that we can go beyond 0 & 1 with the *uniform* function to values including negative numbers. As before all of the values in the 'range' have an equal chance of occuring. The Probability Density Function is 1 and is expressed as follows;"
   ]
  },
  {
   "cell_type": "code",
   "execution_count": 6,
   "metadata": {},
   "outputs": [
    {
     "data": {
      "image/png": "[encoded data removed]",
      "text/plain": [
       "<Figure size 432x288 with 1 Axes>"
      ]
     },
     "metadata": {},
     "output_type": "display_data"
    }
   ],
   "source": [
    "#Probability Density Function\n",
    "count, bins, ignored = plt.hist(u, 10, density=True)\n",
    "plt.plot(bins, np.ones_like(bins), linewidth=2, color='r')\n",
    "plt.show()"
   ]
  },
  {
   "cell_type": "markdown",
   "metadata": {},
   "source": [
    "We see from the plot above that there is an equal probability of a number occuring in each of the ten bins.  However we will need to look at the **normal** distribution to see a distribution of samples influenced by a large number of small but random disturbances - see reference [here](https://docs.scipy.org/doc/numpy/reference/generated/numpy.random.normal.html#numpy.random.normal).  A normal distribution (also know as the 'bell-shaped curve') is described by just two numbers, i.e. the mean and the standard devaiation.  The mean is the average and is where the bell curve peaks.  The Standard Deviation describes how wide or narrow the curve is."
   ]
  },
  {
   "cell_type": "code",
   "execution_count": 7,
   "metadata": {},
   "outputs": [
    {
     "data": {
      "image/png": "[encoded data removed]",
      "text/plain": [
       "<Figure size 432x288 with 1 Axes>"
      ]
     },
     "metadata": {},
     "output_type": "display_data"
    }
   ],
   "source": [
    "#To examine the normal distribution, we call the following function numpy.random.normal(loc=0.0, scale=1.0, size=None).\n",
    "#'loc' refers to the centre of the distribution, 'scale' refers to the spread, and size is the output shape.\n",
    "n = np.random.normal(5,5,1000)\n",
    "plt.hist(n)\n",
    "plt.show()\n"
   ]
  },
  {
   "cell_type": "code",
   "execution_count": 13,
   "metadata": {},
   "outputs": [
    {
     "data": {
      "image/png": "[encoded data removed]",
      "text/plain": [
       "<Figure size 432x288 with 1 Axes>"
      ]
     },
     "metadata": {},
     "output_type": "display_data"
    }
   ],
   "source": [
    "#Let's change some of the parameters of the histogram\n",
    "plt.hist(n,10, density=True, facecolor='g',)\n",
    "plt.show()"
   ]
  },
  {
   "cell_type": "code",
   "execution_count": 19,
   "metadata": {},
   "outputs": [
    {
     "data": {
      "image/png": "[encoded data removed]",
      "text/plain": [
       "<Figure size 432x288 with 1 Axes>"
      ]
     },
     "metadata": {},
     "output_type": "display_data"
    }
   ],
   "source": [
    "# using H=hist(my_data,bins=my_bin,histtype='step',color='r')\n",
    "plt.hist(n,100,histtype='step', color='r')\n",
    "plt.show()"
   ]
  },
  {
   "cell_type": "code",
   "execution_count": null,
   "metadata": {},
   "outputs": [],
   "source": [
    "#plt.plot(bins, 1/(sigma * np.sqrt(2 * np.pi)) * np.exp( - (bins - mu)**2 / (2 * sigma**2) ),linewidth=2, color='r')"
   ]
  },
  {
   "cell_type": "code",
   "execution_count": null,
   "metadata": {},
   "outputs": [],
   "source": [
    "# Now let's have a look at some other distributions functions"
   ]
  },
  {
   "cell_type": "code",
   "execution_count": 30,
   "metadata": {},
   "outputs": [
    {
     "data": {
      "image/png": "[encoded data removed]",
      "text/plain": [
       "<Figure size 432x288 with 1 Axes>"
      ]
     },
     "metadata": {},
     "output_type": "display_data"
    }
   ],
   "source": [
    "k = np.random.standard_normal(10)\n",
    "k\n",
    "plt.hist(k)\n",
    "plt.show()\n"
   ]
  },
  {
   "cell_type": "markdown",
   "metadata": {},
   "source": [
    "To generate random numbers from a normal distribution we use the normalvariate function (normalvariate(meu,sigma) where meu is the mean and sigma is the standard deviation."
   ]
  },
  {
   "cell_type": "code",
   "execution_count": 35,
   "metadata": {},
   "outputs": [
    {
     "name": "stdout",
     "output_type": "stream",
     "text": [
      "1.6901142551744996\n",
      "-1.4978542943367195\n",
      "0.3649002988780484\n",
      "-0.5512639419017137\n",
      "-2.037163125297529\n",
      "2.0304814565311737\n",
      "-0.1617887375934466\n",
      "-1.2255628792203204\n",
      "0.3187483116705581\n",
      "1.9802668912231647\n",
      "-0.6090254232096294\n",
      "1.5724223559728603\n",
      "0.27005473448084855\n",
      "-2.0941231344338194\n",
      "1.6112872068640238\n",
      "1.0059334199573768\n",
      "-1.1846279792166081\n",
      "0.5783100960288362\n",
      "-0.009457757980236622\n",
      "-1.7374569987465431\n"
     ]
    }
   ],
   "source": [
    "#By way of example let's generate 20 numbers from a bell curve with mean of zero and standard deviation of 1\n",
    "import random\n",
    "for i in range(20):\n",
    "    print(random.normalvariate(0,1))\n",
    "    plt.show()"
   ]
  },
  {
   "cell_type": "code",
   "execution_count": null,
   "metadata": {},
   "outputs": [],
   "source": []
  },
  {
   "cell_type": "code",
   "execution_count": null,
   "metadata": {},
   "outputs": [],
   "source": [
    "\n",
    "\n",
    "\n",
    "\n",
    "\n",
    "\n",
    "\n",
    "\n",
    "\n",
    "\n",
    "np.random.random_integers(1,5+1)"
   ]
  },
  {
   "cell_type": "code",
   "execution_count": null,
   "metadata": {},
   "outputs": [],
   "source": []
  }
 ],
 "metadata": {
  "kernelspec": {
   "display_name": "Python 3",
   "language": "python",
   "name": "python3"
  },
  "language_info": {
   "codemirror_mode": {
    "name": "ipython",
    "version": 3
   },
   "file_extension": ".py",
   "mimetype": "text/x-python",
   "name": "python",
   "nbconvert_exporter": "python",
   "pygments_lexer": "ipython3",
   "version": "3.6.5"
  }
 },
 "nbformat": 4,
 "nbformat_minor": 2
}
