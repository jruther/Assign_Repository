{
 "cells": [
  {
   "cell_type": "markdown",
   "metadata": {},
   "source": [
    "### Analysis of the Numpy.Random Package"
   ]
  },
  {
   "cell_type": "code",
   "execution_count": 1,
   "metadata": {},
   "outputs": [
    {
     "data": {
      "text/plain": [
       "0.6923871189016583"
      ]
     },
     "execution_count": 1,
     "metadata": {},
     "output_type": "execute_result"
    }
   ],
   "source": [
    "#Let's look at some of the functions and work out what they do.\n",
    "import numpy as np\n",
    "#function no. 1\n",
    "np.random.rand()"
   ]
  },
  {
   "cell_type": "markdown",
   "metadata": {},
   "source": [
    "We see that rand() returns a random number between 0 & 1, without 'shape' and without a 'distribution'.\n",
    "According to the reference material [numpy.random.rand](https://docs.scipy.org/doc/numpy/reference/generated/numpy.random.rand.html#numpy.random.rand), the rand function returns an array of numbers with a given shape from a uniform distribution between 0 & 1, the square bracket indicating that zero is inlcuded, and the round bracket indicating that one is not included [0,1)"
   ]
  },
  {
   "cell_type": "code",
   "execution_count": 3,
   "metadata": {},
   "outputs": [
    {
     "data": {
      "text/plain": [
       "array([[0.04319096, 0.48399014, 0.27361158, 0.38096999, 0.03173417,\n",
       "        0.83621787, 0.38588868],\n",
       "       [0.45813781, 0.94329355, 0.01800468, 0.38750028, 0.63490929,\n",
       "        0.64924588, 0.1882799 ],\n",
       "       [0.6980272 , 0.64754473, 0.57277471, 0.80798966, 0.02744395,\n",
       "        0.1525187 , 0.73232704],\n",
       "       [0.78272776, 0.53678477, 0.35386904, 0.98391724, 0.59495893,\n",
       "        0.09437788, 0.48378902]])"
      ]
     },
     "execution_count": 3,
     "metadata": {},
     "output_type": "execute_result"
    }
   ],
   "source": [
    "#Shape refers to the dimensions of the array\n",
    "#Uniform distribution refers to ........\n",
    "#Let's insert some integers to see what 'shape' we can put on the array \n",
    "\n",
    "np.random.rand(4,7)"
   ]
  },
  {
   "cell_type": "markdown",
   "metadata": {},
   "source": [
    "From our example above we see that the integer values (4,7) returns 4 arrays inside a single array, each single array containing 7 numbers between 0 & 1.  These 'numbers' are floating numbers.  We test for randomness by re-running the the function again and again."
   ]
  },
  {
   "cell_type": "code",
   "execution_count": 5,
   "metadata": {},
   "outputs": [
    {
     "data": {
      "text/plain": [
       "array([[0.70448016, 0.12059941, 0.32766983, 0.23429897, 0.53060985,\n",
       "        0.76934129, 0.44585477],\n",
       "       [0.41296156, 0.79406176, 0.14176291, 0.23250623, 0.82207737,\n",
       "        0.84711726, 0.4874822 ],\n",
       "       [0.16206804, 0.21555149, 0.31328415, 0.35505873, 0.61941981,\n",
       "        0.03229183, 0.19393384],\n",
       "       [0.98176799, 0.29365661, 0.81005223, 0.21958537, 0.73336523,\n",
       "        0.20299064, 0.40595151]])"
      ]
     },
     "execution_count": 5,
     "metadata": {},
     "output_type": "execute_result"
    }
   ],
   "source": [
    "np.random.rand(4,7)"
   ]
  },
  {
   "cell_type": "markdown",
   "metadata": {},
   "source": [
    "Returning to the reference term **'uniform distribution'** - we will look at its uniformity by plotting a distribution. First let's read a [definition](https://stattrek.com/statistics/dictionary.aspx?definition=uniform_distribution) as - *\"in the context of probability distributions, uniform distribution refers to a probability distribution for which all of the values that a random variable can take on occur with equal probability\"*.  **Ok, let's plot!** "
   ]
  },
  {
   "cell_type": "code",
   "execution_count": 8,
   "metadata": {},
   "outputs": [
    {
     "data": {
      "image/png": "[encoded data removed]",
      "text/plain": [
       "<Figure size 432x288 with 1 Axes>"
      ]
     },
     "metadata": {},
     "output_type": "display_data"
    }
   ],
   "source": [
    "#Create a large array 'A' of random numbers with a uniform distribution\n",
    "A = np.random.rand(10000)\n",
    "\n",
    "%matplotlib inline\n",
    "import matplotlib.pyplot as plt\n",
    "plt.hist(A)\n",
    "plt.show()"
   ]
  },
  {
   "cell_type": "markdown",
   "metadata": {},
   "source": [
    "We observe from the plot that 10,000 numbers have been generated between 0 & 1, and these numbers have been placed into 10 bins (0.1, 0.2, 0.3....) for the purpose of plotting the histogram. We expect that if we re-run this code again and again, the histograms will look similar i.e. there is a **uniformity** to the distribution of numbers generated between 0 & 1.\n"
   ]
  },
  {
   "cell_type": "markdown",
   "metadata": {},
   "source": [
    "However, the rand function appears to be limited to floating point numbers between 0 & 1.  To go outside of this limitation we will look at another function called [Uniform](https://docs.scipy.org/doc/numpy/reference/generated/numpy.random.uniform.html#numpy.random.uniform).  We note from the definition of 'uniform' that we determine the *interval* or the range of values from which a distribution is extracted by assigning 'low' and 'high' values, from which the low value is included and the high value is excluded. **Let's have a look!**"
   ]
  },
  {
   "cell_type": "code",
   "execution_count": 13,
   "metadata": {},
   "outputs": [
    {
     "data": {
      "image/png": "[encoded data removed]",
      "text/plain": [
       "<Figure size 432x288 with 1 Axes>"
      ]
     },
     "metadata": {},
     "output_type": "display_data"
    }
   ],
   "source": [
    "u = np.random.uniform(-5,5,1000)\n",
    "plt.hist(u)\n",
    "plt.show()"
   ]
  },
  {
   "cell_type": "markdown",
   "metadata": {},
   "source": [
    "We now see that we can go beyond 0 & 1 with the *uniform* function to values including negative numbers. As before all of the values in the 'range' have an equal chance of occuring. The Probability Density Function is 1 and is expressed as follows;"
   ]
  },
  {
   "cell_type": "code",
   "execution_count": 22,
   "metadata": {},
   "outputs": [
    {
     "data": {
      "image/png": "[encoded data removed]",
      "text/plain": [
       "<Figure size 432x288 with 1 Axes>"
      ]
     },
     "metadata": {},
     "output_type": "display_data"
    }
   ],
   "source": [
    "#Probability Density Function\n",
    "count, bins, ignored = plt.hist(u, 10, density=True)\n",
    "plt.plot(bins, np.ones_like(bins), linewidth=2, color='r')\n",
    "plt.show()"
   ]
  },
  {
   "cell_type": "markdown",
   "metadata": {},
   "source": [
    "We see from the plot above that there is an equal probability of a number occuring in each of the ten bins.  However we will need to look at the **normal** distribution to see a distribution of samples influenced by a large number of small but random disturbances - see reference [here](https://docs.scipy.org/doc/numpy/reference/generated/numpy.random.normal.html#numpy.random.normal)"
   ]
  },
  {
   "cell_type": "code",
   "execution_count": 25,
   "metadata": {},
   "outputs": [
    {
     "data": {
      "image/png": "[encoded data removed]",
      "text/plain": [
       "<Figure size 432x288 with 1 Axes>"
      ]
     },
     "metadata": {},
     "output_type": "display_data"
    }
   ],
   "source": [
    "#To examine the normal distribution, we call the following function numpy.random.normal(loc=0.0, scale=1.0, size=None).\n",
    "#'loc' refers to the centre of the distribution, 'scale' refers to the spread, and size is the output shape.\n",
    "n = np.random.normal(5,5,1000)\n",
    "plt.hist(n)\n",
    "plt.show()\n"
   ]
  },
  {
   "cell_type": "code",
   "execution_count": 36,
   "metadata": {},
   "outputs": [
    {
     "data": {
      "image/png": "[encoded data removed]",
      "text/plain": [
       "<Figure size 432x288 with 1 Axes>"
      ]
     },
     "metadata": {},
     "output_type": "display_data"
    }
   ],
   "source": [
    "plt.hist(n,10, density=True, facecolor='g',)\n",
    "plt.show()"
   ]
  },
  {
   "cell_type": "code",
   "execution_count": 33,
   "metadata": {},
   "outputs": [
    {
     "data": {
      "image/png": "[encoded data removed]",
      "text/plain": [
       "<Figure size 432x288 with 1 Axes>"
      ]
     },
     "metadata": {},
     "output_type": "display_data"
    }
   ],
   "source": [
    "# using H=hist(my_data,bins=my_bin,histtype='step',color='r')\n",
    "plt.hist(n,10,histtype='step', color='r')\n",
    "plt.show()"
   ]
  },
  {
   "cell_type": "code",
   "execution_count": 8,
   "metadata": {},
   "outputs": [
    {
     "name": "stderr",
     "output_type": "stream",
     "text": [
      "C:\\ProgramData\\Anaconda3\\lib\\site-packages\\ipykernel_launcher.py:1: DeprecationWarning: This function is deprecated. Please call randint(1, 6 + 1) instead\n",
      "  \"\"\"Entry point for launching an IPython kernel.\n"
     ]
    },
    {
     "data": {
      "text/plain": [
       "4"
      ]
     },
     "execution_count": 8,
     "metadata": {},
     "output_type": "execute_result"
    }
   ],
   "source": [
    "\n",
    "\n",
    "\n",
    "\n",
    "\n",
    "\n",
    "\n",
    "\n",
    "\n",
    "\n",
    "np.random.random_integers(1,5+1)"
   ]
  },
  {
   "cell_type": "code",
   "execution_count": null,
   "metadata": {},
   "outputs": [],
   "source": []
  }
 ],
 "metadata": {
  "kernelspec": {
   "display_name": "Python 3",
   "language": "python",
   "name": "python3"
  },
  "language_info": {
   "codemirror_mode": {
    "name": "ipython",
    "version": 3
   },
   "file_extension": ".py",
   "mimetype": "text/x-python",
   "name": "python",
   "nbconvert_exporter": "python",
   "pygments_lexer": "ipython3",
   "version": "3.6.5"
  }
 },
 "nbformat": 4,
 "nbformat_minor": 2
}
